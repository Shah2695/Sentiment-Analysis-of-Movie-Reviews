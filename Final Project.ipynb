{
 "cells": [
  {
   "cell_type": "markdown",
   "metadata": {},
   "source": [
    "# Read the Data"
   ]
  },
  {
   "cell_type": "code",
   "execution_count": 1,
   "metadata": {
    "collapsed": true
   },
   "outputs": [],
   "source": [
    "import pandas as pd"
   ]
  },
  {
   "cell_type": "code",
   "execution_count": 2,
   "metadata": {
    "collapsed": true
   },
   "outputs": [],
   "source": [
    "data=pd.read_csv('imdb_master.csv', encoding = 'ISO-8859-1')\n",
    "data.columns = [\"UserId\",\"Type\",\"Review\",\"Label\",\"File\"]"
   ]
  },
  {
   "cell_type": "code",
   "execution_count": 3,
   "metadata": {},
   "outputs": [
    {
     "data": {
      "text/plain": [
       "(100000, 5)"
      ]
     },
     "execution_count": 3,
     "metadata": {},
     "output_type": "execute_result"
    }
   ],
   "source": [
    "data.shape"
   ]
  },
  {
   "cell_type": "code",
   "execution_count": 4,
   "metadata": {
    "collapsed": true
   },
   "outputs": [],
   "source": [
    "df = data.iloc[:,[0,1,2,3]]"
   ]
  },
  {
   "cell_type": "code",
   "execution_count": 5,
   "metadata": {},
   "outputs": [
    {
     "data": {
      "text/html": [
       "<div>\n",
       "<style>\n",
       "    .dataframe thead tr:only-child th {\n",
       "        text-align: right;\n",
       "    }\n",
       "\n",
       "    .dataframe thead th {\n",
       "        text-align: left;\n",
       "    }\n",
       "\n",
       "    .dataframe tbody tr th {\n",
       "        vertical-align: top;\n",
       "    }\n",
       "</style>\n",
       "<table border=\"1\" class=\"dataframe\">\n",
       "  <thead>\n",
       "    <tr style=\"text-align: right;\">\n",
       "      <th></th>\n",
       "      <th>UserId</th>\n",
       "      <th>Type</th>\n",
       "      <th>Review</th>\n",
       "      <th>Label</th>\n",
       "    </tr>\n",
       "  </thead>\n",
       "  <tbody>\n",
       "    <tr>\n",
       "      <th>0</th>\n",
       "      <td>0</td>\n",
       "      <td>test</td>\n",
       "      <td>Once again Mr. Costner has dragged out a movie...</td>\n",
       "      <td>neg</td>\n",
       "    </tr>\n",
       "    <tr>\n",
       "      <th>1</th>\n",
       "      <td>1</td>\n",
       "      <td>test</td>\n",
       "      <td>This is an example of why the majority of acti...</td>\n",
       "      <td>neg</td>\n",
       "    </tr>\n",
       "    <tr>\n",
       "      <th>2</th>\n",
       "      <td>2</td>\n",
       "      <td>test</td>\n",
       "      <td>First of all I hate those moronic rappers, who...</td>\n",
       "      <td>neg</td>\n",
       "    </tr>\n",
       "    <tr>\n",
       "      <th>3</th>\n",
       "      <td>3</td>\n",
       "      <td>test</td>\n",
       "      <td>Not even the Beatles could write songs everyon...</td>\n",
       "      <td>neg</td>\n",
       "    </tr>\n",
       "    <tr>\n",
       "      <th>4</th>\n",
       "      <td>4</td>\n",
       "      <td>test</td>\n",
       "      <td>Brass pictures (movies is not a fitting word f...</td>\n",
       "      <td>neg</td>\n",
       "    </tr>\n",
       "    <tr>\n",
       "      <th>5</th>\n",
       "      <td>5</td>\n",
       "      <td>test</td>\n",
       "      <td>A funny thing happened to me while watching \"M...</td>\n",
       "      <td>neg</td>\n",
       "    </tr>\n",
       "    <tr>\n",
       "      <th>6</th>\n",
       "      <td>6</td>\n",
       "      <td>test</td>\n",
       "      <td>This German horror film has to be one of the w...</td>\n",
       "      <td>neg</td>\n",
       "    </tr>\n",
       "    <tr>\n",
       "      <th>7</th>\n",
       "      <td>7</td>\n",
       "      <td>test</td>\n",
       "      <td>Being a long-time fan of Japanese film, I expe...</td>\n",
       "      <td>neg</td>\n",
       "    </tr>\n",
       "    <tr>\n",
       "      <th>8</th>\n",
       "      <td>8</td>\n",
       "      <td>test</td>\n",
       "      <td>\"Tokyo Eyes\" tells of a 17 year old Japanese g...</td>\n",
       "      <td>neg</td>\n",
       "    </tr>\n",
       "    <tr>\n",
       "      <th>9</th>\n",
       "      <td>9</td>\n",
       "      <td>test</td>\n",
       "      <td>Wealthy horse ranchers in Buenos Aires have a ...</td>\n",
       "      <td>neg</td>\n",
       "    </tr>\n",
       "    <tr>\n",
       "      <th>10</th>\n",
       "      <td>10</td>\n",
       "      <td>test</td>\n",
       "      <td>Cage plays a drunk and gets high critically pr...</td>\n",
       "      <td>neg</td>\n",
       "    </tr>\n",
       "    <tr>\n",
       "      <th>11</th>\n",
       "      <td>11</td>\n",
       "      <td>test</td>\n",
       "      <td>First of all, I would like to say that I am a ...</td>\n",
       "      <td>neg</td>\n",
       "    </tr>\n",
       "    <tr>\n",
       "      <th>12</th>\n",
       "      <td>12</td>\n",
       "      <td>test</td>\n",
       "      <td>So tell me - what serious boozer drinks Budwei...</td>\n",
       "      <td>neg</td>\n",
       "    </tr>\n",
       "    <tr>\n",
       "      <th>13</th>\n",
       "      <td>13</td>\n",
       "      <td>test</td>\n",
       "      <td>A big disappointment for what was touted as an...</td>\n",
       "      <td>neg</td>\n",
       "    </tr>\n",
       "    <tr>\n",
       "      <th>14</th>\n",
       "      <td>14</td>\n",
       "      <td>test</td>\n",
       "      <td>This film is absolutely appalling and awful. I...</td>\n",
       "      <td>neg</td>\n",
       "    </tr>\n",
       "    <tr>\n",
       "      <th>15</th>\n",
       "      <td>15</td>\n",
       "      <td>test</td>\n",
       "      <td>Here's a decidedly average Italian post apocal...</td>\n",
       "      <td>neg</td>\n",
       "    </tr>\n",
       "    <tr>\n",
       "      <th>16</th>\n",
       "      <td>16</td>\n",
       "      <td>test</td>\n",
       "      <td>At the bottom end of the apocalypse movie scal...</td>\n",
       "      <td>neg</td>\n",
       "    </tr>\n",
       "    <tr>\n",
       "      <th>17</th>\n",
       "      <td>17</td>\n",
       "      <td>test</td>\n",
       "      <td>Earth has been destroyed in a nuclear holocaus...</td>\n",
       "      <td>neg</td>\n",
       "    </tr>\n",
       "    <tr>\n",
       "      <th>18</th>\n",
       "      <td>18</td>\n",
       "      <td>test</td>\n",
       "      <td>Many people are standing in front of the house...</td>\n",
       "      <td>neg</td>\n",
       "    </tr>\n",
       "    <tr>\n",
       "      <th>19</th>\n",
       "      <td>19</td>\n",
       "      <td>test</td>\n",
       "      <td>New York family is the last in their neighborh...</td>\n",
       "      <td>neg</td>\n",
       "    </tr>\n",
       "    <tr>\n",
       "      <th>20</th>\n",
       "      <td>20</td>\n",
       "      <td>test</td>\n",
       "      <td>The best thing about \"The Prey\" is the tag lin...</td>\n",
       "      <td>neg</td>\n",
       "    </tr>\n",
       "    <tr>\n",
       "      <th>21</th>\n",
       "      <td>21</td>\n",
       "      <td>test</td>\n",
       "      <td>This is truly, without exaggerating, one of th...</td>\n",
       "      <td>neg</td>\n",
       "    </tr>\n",
       "    <tr>\n",
       "      <th>22</th>\n",
       "      <td>22</td>\n",
       "      <td>test</td>\n",
       "      <td>I'm a huge fan of both Emily Watson (Breaking ...</td>\n",
       "      <td>neg</td>\n",
       "    </tr>\n",
       "    <tr>\n",
       "      <th>23</th>\n",
       "      <td>23</td>\n",
       "      <td>test</td>\n",
       "      <td>Sure, most of the slasher films of the 1980's ...</td>\n",
       "      <td>neg</td>\n",
       "    </tr>\n",
       "    <tr>\n",
       "      <th>24</th>\n",
       "      <td>24</td>\n",
       "      <td>test</td>\n",
       "      <td>I think that would have been a more appropriat...</td>\n",
       "      <td>neg</td>\n",
       "    </tr>\n",
       "    <tr>\n",
       "      <th>25</th>\n",
       "      <td>25</td>\n",
       "      <td>test</td>\n",
       "      <td>1980 was certainly a year for bad backwoods sl...</td>\n",
       "      <td>neg</td>\n",
       "    </tr>\n",
       "    <tr>\n",
       "      <th>26</th>\n",
       "      <td>26</td>\n",
       "      <td>test</td>\n",
       "      <td>Everything everyone has said already pretty mu...</td>\n",
       "      <td>neg</td>\n",
       "    </tr>\n",
       "    <tr>\n",
       "      <th>27</th>\n",
       "      <td>27</td>\n",
       "      <td>test</td>\n",
       "      <td>Uhhh ... so, did they even have writers for th...</td>\n",
       "      <td>neg</td>\n",
       "    </tr>\n",
       "    <tr>\n",
       "      <th>28</th>\n",
       "      <td>28</td>\n",
       "      <td>test</td>\n",
       "      <td>Oh yeah, this one is definitely a strong conte...</td>\n",
       "      <td>neg</td>\n",
       "    </tr>\n",
       "    <tr>\n",
       "      <th>29</th>\n",
       "      <td>29</td>\n",
       "      <td>test</td>\n",
       "      <td>Supercraptastic slasher fare, which feels over...</td>\n",
       "      <td>neg</td>\n",
       "    </tr>\n",
       "    <tr>\n",
       "      <th>...</th>\n",
       "      <td>...</td>\n",
       "      <td>...</td>\n",
       "      <td>...</td>\n",
       "      <td>...</td>\n",
       "    </tr>\n",
       "    <tr>\n",
       "      <th>99970</th>\n",
       "      <td>99970</td>\n",
       "      <td>train</td>\n",
       "      <td>This is without a doubt the worst movie I have...</td>\n",
       "      <td>unsup</td>\n",
       "    </tr>\n",
       "    <tr>\n",
       "      <th>99971</th>\n",
       "      <td>99971</td>\n",
       "      <td>train</td>\n",
       "      <td>Note: I've only seen the MST version of this f...</td>\n",
       "      <td>unsup</td>\n",
       "    </tr>\n",
       "    <tr>\n",
       "      <th>99972</th>\n",
       "      <td>99972</td>\n",
       "      <td>train</td>\n",
       "      <td>I've seen the MST3K version of this movie unde...</td>\n",
       "      <td>unsup</td>\n",
       "    </tr>\n",
       "    <tr>\n",
       "      <th>99973</th>\n",
       "      <td>99973</td>\n",
       "      <td>train</td>\n",
       "      <td>This disillusioning tale of time travel is mor...</td>\n",
       "      <td>unsup</td>\n",
       "    </tr>\n",
       "    <tr>\n",
       "      <th>99974</th>\n",
       "      <td>99974</td>\n",
       "      <td>train</td>\n",
       "      <td>All right, enough with the MST3K-ing, people. ...</td>\n",
       "      <td>unsup</td>\n",
       "    </tr>\n",
       "    <tr>\n",
       "      <th>99975</th>\n",
       "      <td>99975</td>\n",
       "      <td>train</td>\n",
       "      <td>I saw this in Pittsburgh PA in a small theater...</td>\n",
       "      <td>unsup</td>\n",
       "    </tr>\n",
       "    <tr>\n",
       "      <th>99976</th>\n",
       "      <td>99976</td>\n",
       "      <td>train</td>\n",
       "      <td>And then filmed during each actors day off at ...</td>\n",
       "      <td>unsup</td>\n",
       "    </tr>\n",
       "    <tr>\n",
       "      <th>99977</th>\n",
       "      <td>99977</td>\n",
       "      <td>train</td>\n",
       "      <td>Hey, it's not a time machine, it's a \"time tra...</td>\n",
       "      <td>unsup</td>\n",
       "    </tr>\n",
       "    <tr>\n",
       "      <th>99978</th>\n",
       "      <td>99978</td>\n",
       "      <td>train</td>\n",
       "      <td>This backyard movie has it all: time travel, a...</td>\n",
       "      <td>unsup</td>\n",
       "    </tr>\n",
       "    <tr>\n",
       "      <th>99979</th>\n",
       "      <td>99979</td>\n",
       "      <td>train</td>\n",
       "      <td>It was a true labor to sit through this \"movie...</td>\n",
       "      <td>unsup</td>\n",
       "    </tr>\n",
       "    <tr>\n",
       "      <th>99980</th>\n",
       "      <td>99980</td>\n",
       "      <td>train</td>\n",
       "      <td>The comments already posted for this film do n...</td>\n",
       "      <td>unsup</td>\n",
       "    </tr>\n",
       "    <tr>\n",
       "      <th>99981</th>\n",
       "      <td>99981</td>\n",
       "      <td>train</td>\n",
       "      <td>One of the funnier MST3K experiments. This was...</td>\n",
       "      <td>unsup</td>\n",
       "    </tr>\n",
       "    <tr>\n",
       "      <th>99982</th>\n",
       "      <td>99982</td>\n",
       "      <td>train</td>\n",
       "      <td>Time Chasers is probably one of the better mov...</td>\n",
       "      <td>unsup</td>\n",
       "    </tr>\n",
       "    <tr>\n",
       "      <th>99983</th>\n",
       "      <td>99983</td>\n",
       "      <td>train</td>\n",
       "      <td>... to dull the incredible pain this stinkmast...</td>\n",
       "      <td>unsup</td>\n",
       "    </tr>\n",
       "    <tr>\n",
       "      <th>99984</th>\n",
       "      <td>99984</td>\n",
       "      <td>train</td>\n",
       "      <td>I feel badly for the actors and directors of t...</td>\n",
       "      <td>unsup</td>\n",
       "    </tr>\n",
       "    <tr>\n",
       "      <th>99985</th>\n",
       "      <td>99985</td>\n",
       "      <td>train</td>\n",
       "      <td>I'm not really sure they were trying to make a...</td>\n",
       "      <td>unsup</td>\n",
       "    </tr>\n",
       "    <tr>\n",
       "      <th>99986</th>\n",
       "      <td>99986</td>\n",
       "      <td>train</td>\n",
       "      <td>I got a screener of this film a couple of week...</td>\n",
       "      <td>unsup</td>\n",
       "    </tr>\n",
       "    <tr>\n",
       "      <th>99987</th>\n",
       "      <td>99987</td>\n",
       "      <td>train</td>\n",
       "      <td>****SPOILERS****SPOILERS****SPOILERS****SPOILE...</td>\n",
       "      <td>unsup</td>\n",
       "    </tr>\n",
       "    <tr>\n",
       "      <th>99988</th>\n",
       "      <td>99988</td>\n",
       "      <td>train</td>\n",
       "      <td>This is a really dumb movie, with a very low b...</td>\n",
       "      <td>unsup</td>\n",
       "    </tr>\n",
       "    <tr>\n",
       "      <th>99989</th>\n",
       "      <td>99989</td>\n",
       "      <td>train</td>\n",
       "      <td>Nick Miller has developed a means of time trav...</td>\n",
       "      <td>unsup</td>\n",
       "    </tr>\n",
       "    <tr>\n",
       "      <th>99990</th>\n",
       "      <td>99990</td>\n",
       "      <td>train</td>\n",
       "      <td>That's what the director of this film had to b...</td>\n",
       "      <td>unsup</td>\n",
       "    </tr>\n",
       "    <tr>\n",
       "      <th>99991</th>\n",
       "      <td>99991</td>\n",
       "      <td>train</td>\n",
       "      <td>Think of this one as Back to the Future...exce...</td>\n",
       "      <td>unsup</td>\n",
       "    </tr>\n",
       "    <tr>\n",
       "      <th>99992</th>\n",
       "      <td>99992</td>\n",
       "      <td>train</td>\n",
       "      <td>What happened to the 'second' hero who went ba...</td>\n",
       "      <td>unsup</td>\n",
       "    </tr>\n",
       "    <tr>\n",
       "      <th>99993</th>\n",
       "      <td>99993</td>\n",
       "      <td>train</td>\n",
       "      <td>Tangents (better known to MST3K watchers as Ti...</td>\n",
       "      <td>unsup</td>\n",
       "    </tr>\n",
       "    <tr>\n",
       "      <th>99994</th>\n",
       "      <td>99994</td>\n",
       "      <td>train</td>\n",
       "      <td>Time Chasers joins various films that have bee...</td>\n",
       "      <td>unsup</td>\n",
       "    </tr>\n",
       "    <tr>\n",
       "      <th>99995</th>\n",
       "      <td>99995</td>\n",
       "      <td>train</td>\n",
       "      <td>Delightfully awful! Made by David Giancola, a ...</td>\n",
       "      <td>unsup</td>\n",
       "    </tr>\n",
       "    <tr>\n",
       "      <th>99996</th>\n",
       "      <td>99996</td>\n",
       "      <td>train</td>\n",
       "      <td>Watching Time Chasers, it obvious that it was ...</td>\n",
       "      <td>unsup</td>\n",
       "    </tr>\n",
       "    <tr>\n",
       "      <th>99997</th>\n",
       "      <td>99997</td>\n",
       "      <td>train</td>\n",
       "      <td>At the beginning we can see members of Troma t...</td>\n",
       "      <td>unsup</td>\n",
       "    </tr>\n",
       "    <tr>\n",
       "      <th>99998</th>\n",
       "      <td>99998</td>\n",
       "      <td>train</td>\n",
       "      <td>The movie was incredible, ever since I saw it ...</td>\n",
       "      <td>unsup</td>\n",
       "    </tr>\n",
       "    <tr>\n",
       "      <th>99999</th>\n",
       "      <td>99999</td>\n",
       "      <td>train</td>\n",
       "      <td>TCM came through by acquiring this wonderful, ...</td>\n",
       "      <td>unsup</td>\n",
       "    </tr>\n",
       "  </tbody>\n",
       "</table>\n",
       "<p>100000 rows × 4 columns</p>\n",
       "</div>"
      ],
      "text/plain": [
       "       UserId   Type                                             Review  Label\n",
       "0           0   test  Once again Mr. Costner has dragged out a movie...    neg\n",
       "1           1   test  This is an example of why the majority of acti...    neg\n",
       "2           2   test  First of all I hate those moronic rappers, who...    neg\n",
       "3           3   test  Not even the Beatles could write songs everyon...    neg\n",
       "4           4   test  Brass pictures (movies is not a fitting word f...    neg\n",
       "5           5   test  A funny thing happened to me while watching \"M...    neg\n",
       "6           6   test  This German horror film has to be one of the w...    neg\n",
       "7           7   test  Being a long-time fan of Japanese film, I expe...    neg\n",
       "8           8   test  \"Tokyo Eyes\" tells of a 17 year old Japanese g...    neg\n",
       "9           9   test  Wealthy horse ranchers in Buenos Aires have a ...    neg\n",
       "10         10   test  Cage plays a drunk and gets high critically pr...    neg\n",
       "11         11   test  First of all, I would like to say that I am a ...    neg\n",
       "12         12   test  So tell me - what serious boozer drinks Budwei...    neg\n",
       "13         13   test  A big disappointment for what was touted as an...    neg\n",
       "14         14   test  This film is absolutely appalling and awful. I...    neg\n",
       "15         15   test  Here's a decidedly average Italian post apocal...    neg\n",
       "16         16   test  At the bottom end of the apocalypse movie scal...    neg\n",
       "17         17   test  Earth has been destroyed in a nuclear holocaus...    neg\n",
       "18         18   test  Many people are standing in front of the house...    neg\n",
       "19         19   test  New York family is the last in their neighborh...    neg\n",
       "20         20   test  The best thing about \"The Prey\" is the tag lin...    neg\n",
       "21         21   test  This is truly, without exaggerating, one of th...    neg\n",
       "22         22   test  I'm a huge fan of both Emily Watson (Breaking ...    neg\n",
       "23         23   test  Sure, most of the slasher films of the 1980's ...    neg\n",
       "24         24   test  I think that would have been a more appropriat...    neg\n",
       "25         25   test  1980 was certainly a year for bad backwoods sl...    neg\n",
       "26         26   test  Everything everyone has said already pretty mu...    neg\n",
       "27         27   test  Uhhh ... so, did they even have writers for th...    neg\n",
       "28         28   test  Oh yeah, this one is definitely a strong conte...    neg\n",
       "29         29   test  Supercraptastic slasher fare, which feels over...    neg\n",
       "...       ...    ...                                                ...    ...\n",
       "99970   99970  train  This is without a doubt the worst movie I have...  unsup\n",
       "99971   99971  train  Note: I've only seen the MST version of this f...  unsup\n",
       "99972   99972  train  I've seen the MST3K version of this movie unde...  unsup\n",
       "99973   99973  train  This disillusioning tale of time travel is mor...  unsup\n",
       "99974   99974  train  All right, enough with the MST3K-ing, people. ...  unsup\n",
       "99975   99975  train  I saw this in Pittsburgh PA in a small theater...  unsup\n",
       "99976   99976  train  And then filmed during each actors day off at ...  unsup\n",
       "99977   99977  train  Hey, it's not a time machine, it's a \"time tra...  unsup\n",
       "99978   99978  train  This backyard movie has it all: time travel, a...  unsup\n",
       "99979   99979  train  It was a true labor to sit through this \"movie...  unsup\n",
       "99980   99980  train  The comments already posted for this film do n...  unsup\n",
       "99981   99981  train  One of the funnier MST3K experiments. This was...  unsup\n",
       "99982   99982  train  Time Chasers is probably one of the better mov...  unsup\n",
       "99983   99983  train  ... to dull the incredible pain this stinkmast...  unsup\n",
       "99984   99984  train  I feel badly for the actors and directors of t...  unsup\n",
       "99985   99985  train  I'm not really sure they were trying to make a...  unsup\n",
       "99986   99986  train  I got a screener of this film a couple of week...  unsup\n",
       "99987   99987  train  ****SPOILERS****SPOILERS****SPOILERS****SPOILE...  unsup\n",
       "99988   99988  train  This is a really dumb movie, with a very low b...  unsup\n",
       "99989   99989  train  Nick Miller has developed a means of time trav...  unsup\n",
       "99990   99990  train  That's what the director of this film had to b...  unsup\n",
       "99991   99991  train  Think of this one as Back to the Future...exce...  unsup\n",
       "99992   99992  train  What happened to the 'second' hero who went ba...  unsup\n",
       "99993   99993  train  Tangents (better known to MST3K watchers as Ti...  unsup\n",
       "99994   99994  train  Time Chasers joins various films that have bee...  unsup\n",
       "99995   99995  train  Delightfully awful! Made by David Giancola, a ...  unsup\n",
       "99996   99996  train  Watching Time Chasers, it obvious that it was ...  unsup\n",
       "99997   99997  train  At the beginning we can see members of Troma t...  unsup\n",
       "99998   99998  train  The movie was incredible, ever since I saw it ...  unsup\n",
       "99999   99999  train  TCM came through by acquiring this wonderful, ...  unsup\n",
       "\n",
       "[100000 rows x 4 columns]"
      ]
     },
     "execution_count": 5,
     "metadata": {},
     "output_type": "execute_result"
    }
   ],
   "source": [
    "df"
   ]
  },
  {
   "cell_type": "code",
   "execution_count": 6,
   "metadata": {
    "collapsed": true
   },
   "outputs": [],
   "source": [
    "def numeric_label(Label):\n",
    "    if Label == 'neg':\n",
    "        return 0\n",
    "    elif Label == 'pos':\n",
    "        return 1\n",
    "    else:\n",
    "        return 2  "
   ]
  },
  {
   "cell_type": "code",
   "execution_count": 7,
   "metadata": {},
   "outputs": [
    {
     "name": "stderr",
     "output_type": "stream",
     "text": [
      "C:\\Users\\ujali\\Anaconda3\\lib\\site-packages\\ipykernel_launcher.py:1: SettingWithCopyWarning: \n",
      "A value is trying to be set on a copy of a slice from a DataFrame.\n",
      "Try using .loc[row_indexer,col_indexer] = value instead\n",
      "\n",
      "See the caveats in the documentation: http://pandas.pydata.org/pandas-docs/stable/indexing.html#indexing-view-versus-copy\n",
      "  \"\"\"Entry point for launching an IPython kernel.\n"
     ]
    }
   ],
   "source": [
    "df['Label'] = df.Label.apply(numeric_label)"
   ]
  },
  {
   "cell_type": "code",
   "execution_count": 8,
   "metadata": {},
   "outputs": [
    {
     "data": {
      "text/plain": [
       "(100000, 4)"
      ]
     },
     "execution_count": 8,
     "metadata": {},
     "output_type": "execute_result"
    }
   ],
   "source": [
    "df.shape"
   ]
  },
  {
   "cell_type": "code",
   "execution_count": 9,
   "metadata": {
    "collapsed": true
   },
   "outputs": [],
   "source": [
    "Final_df = df[df.Label!=2]"
   ]
  },
  {
   "cell_type": "code",
   "execution_count": 10,
   "metadata": {},
   "outputs": [
    {
     "data": {
      "text/plain": [
       "(50000, 4)"
      ]
     },
     "execution_count": 10,
     "metadata": {},
     "output_type": "execute_result"
    }
   ],
   "source": [
    "Final_df.shape"
   ]
  },
  {
   "cell_type": "markdown",
   "metadata": {},
   "source": [
    "# Clean the Data"
   ]
  },
  {
   "cell_type": "code",
   "execution_count": 11,
   "metadata": {
    "collapsed": true
   },
   "outputs": [],
   "source": [
    "import string\n",
    "from nltk.corpus import stopwords\n",
    "def split_words(Review):\n",
    "    ListofWords = []\n",
    "    \n",
    "    #make all words in same case i.e., lower case\n",
    "    ListofWords =[t for t in Review.split(' ')]\n",
    "    words = [word.lower() for word in ListofWords]\n",
    "    \n",
    "    #remove punctuation marks from all data\n",
    "    table = str.maketrans('', '', string.punctuation)\n",
    "    stripped = [w.translate(table) for w in words]\n",
    "    \n",
    "    # remove remaining tokens that are not alphabetic\n",
    "    alpha_words = [word for word in stripped if word.isalpha()]\n",
    "    \n",
    "    #remove stop words from the data\n",
    "    stop_words = set(stopwords.words('english'))\n",
    "    final_words = [w for w in alpha_words if not w in stop_words]    \n",
    "    \n",
    "    return final_words"
   ]
  },
  {
   "cell_type": "code",
   "execution_count": null,
   "metadata": {},
   "outputs": [],
   "source": [
    "Final_df['Splitted_Words'] = Final_df.Review.apply(split_words)"
   ]
  },
  {
   "cell_type": "code",
   "execution_count": 13,
   "metadata": {},
   "outputs": [
    {
     "data": {
      "text/plain": [
       "(50000, 5)"
      ]
     },
     "execution_count": 13,
     "metadata": {},
     "output_type": "execute_result"
    }
   ],
   "source": [
    "Final_df.shape"
   ]
  },
  {
   "cell_type": "code",
   "execution_count": 14,
   "metadata": {
    "collapsed": true
   },
   "outputs": [],
   "source": [
    "ListofReview = []\n",
    "for i in Final_df.Splitted_Words:\n",
    "    if isinstance(i,list):  \n",
    "        for nested_i in i:\n",
    "            ListofReview.append(nested_i)"
   ]
  },
  {
   "cell_type": "code",
   "execution_count": 15,
   "metadata": {},
   "outputs": [
    {
     "data": {
      "text/plain": [
       "6066723"
      ]
     },
     "execution_count": 15,
     "metadata": {},
     "output_type": "execute_result"
    }
   ],
   "source": [
    "len(ListofReview)"
   ]
  },
  {
   "cell_type": "code",
   "execution_count": 16,
   "metadata": {
    "collapsed": true
   },
   "outputs": [],
   "source": [
    "import numpy as np\n",
    "Countwords = {}\n",
    "arrayAllWords = np.array(ListofReview)\n",
    "Countwords = np.unique(arrayAllWords, return_counts=True)"
   ]
  },
  {
   "cell_type": "code",
   "execution_count": 17,
   "metadata": {
    "collapsed": true
   },
   "outputs": [],
   "source": [
    "keywords=[]\n",
    "for i in range(0,len(Countwords[1])):\n",
    "    if (Countwords[1][i] >= 20):\n",
    "        keywords.append(Countwords[0][i])\n",
    "#keywords=list(set(keywords))"
   ]
  },
  {
   "cell_type": "code",
   "execution_count": 18,
   "metadata": {},
   "outputs": [
    {
     "data": {
      "text/plain": [
       "20105"
      ]
     },
     "execution_count": 18,
     "metadata": {},
     "output_type": "execute_result"
    }
   ],
   "source": [
    "len(keywords)"
   ]
  },
  {
   "cell_type": "markdown",
   "metadata": {},
   "source": [
    "# Split the data in Train and Test"
   ]
  },
  {
   "cell_type": "code",
   "execution_count": 19,
   "metadata": {
    "collapsed": true
   },
   "outputs": [],
   "source": [
    "Test_df = Final_df[Final_df.Type=='test']"
   ]
  },
  {
   "cell_type": "code",
   "execution_count": 20,
   "metadata": {},
   "outputs": [
    {
     "data": {
      "text/plain": [
       "(25000, 5)"
      ]
     },
     "execution_count": 20,
     "metadata": {},
     "output_type": "execute_result"
    }
   ],
   "source": [
    "Test_df.shape"
   ]
  },
  {
   "cell_type": "code",
   "execution_count": 21,
   "metadata": {
    "collapsed": true
   },
   "outputs": [],
   "source": [
    "Train_df = Final_df[Final_df.Type=='train']"
   ]
  },
  {
   "cell_type": "code",
   "execution_count": 22,
   "metadata": {},
   "outputs": [
    {
     "data": {
      "text/plain": [
       "(25000, 5)"
      ]
     },
     "execution_count": 22,
     "metadata": {},
     "output_type": "execute_result"
    }
   ],
   "source": [
    "Train_df.shape"
   ]
  },
  {
   "cell_type": "code",
   "execution_count": 23,
   "metadata": {
    "collapsed": true
   },
   "outputs": [],
   "source": [
    "def get_popular_keywords(Splitted_Words):\n",
    "    ListFinalWords = []\n",
    "    for i in Splitted_Words:\n",
    "        if (i in keywords):\n",
    "            ListFinalWords.append(i)\n",
    "    return ListFinalWords"
   ]
  },
  {
   "cell_type": "code",
   "execution_count": 24,
   "metadata": {},
   "outputs": [
    {
     "name": "stderr",
     "output_type": "stream",
     "text": [
      "C:\\Users\\ujali\\Anaconda3\\lib\\site-packages\\ipykernel_launcher.py:1: SettingWithCopyWarning: \n",
      "A value is trying to be set on a copy of a slice from a DataFrame.\n",
      "Try using .loc[row_indexer,col_indexer] = value instead\n",
      "\n",
      "See the caveats in the documentation: http://pandas.pydata.org/pandas-docs/stable/indexing.html#indexing-view-versus-copy\n",
      "  \"\"\"Entry point for launching an IPython kernel.\n"
     ]
    }
   ],
   "source": [
    "Train_df['Keywords'] = Train_df.Splitted_Words.apply(get_popular_keywords)"
   ]
  },
  {
   "cell_type": "code",
   "execution_count": 25,
   "metadata": {},
   "outputs": [
    {
     "name": "stderr",
     "output_type": "stream",
     "text": [
      "C:\\Users\\ujali\\Anaconda3\\lib\\site-packages\\ipykernel_launcher.py:1: SettingWithCopyWarning: \n",
      "A value is trying to be set on a copy of a slice from a DataFrame.\n",
      "Try using .loc[row_indexer,col_indexer] = value instead\n",
      "\n",
      "See the caveats in the documentation: http://pandas.pydata.org/pandas-docs/stable/indexing.html#indexing-view-versus-copy\n",
      "  \"\"\"Entry point for launching an IPython kernel.\n"
     ]
    }
   ],
   "source": [
    "Test_df['Keywords'] = Test_df.Splitted_Words.apply(get_popular_keywords)"
   ]
  },
  {
   "cell_type": "code",
   "execution_count": 26,
   "metadata": {
    "collapsed": true
   },
   "outputs": [],
   "source": [
    "ListofKeywords = []\n",
    "for i in Train_df.Keywords:\n",
    "    str1 = ' '.join(i)\n",
    "    ListofKeywords.append(str1)"
   ]
  },
  {
   "cell_type": "code",
   "execution_count": 27,
   "metadata": {},
   "outputs": [
    {
     "data": {
      "text/plain": [
       "25000"
      ]
     },
     "execution_count": 27,
     "metadata": {},
     "output_type": "execute_result"
    }
   ],
   "source": [
    "len(ListofKeywords)"
   ]
  },
  {
   "cell_type": "markdown",
   "metadata": {},
   "source": [
    "# Tfldf Vectorizer"
   ]
  },
  {
   "cell_type": "code",
   "execution_count": 28,
   "metadata": {},
   "outputs": [
    {
     "name": "stdout",
     "output_type": "stream",
     "text": [
      "<class 'scipy.sparse.csr.csr_matrix'>\n",
      "[[ 0.          0.          0.         ...,  0.          0.          0.        ]\n",
      " [ 0.05325475  0.07191262  0.         ...,  0.          0.          0.        ]\n",
      " [ 0.          0.          0.         ...,  0.          0.          0.        ]\n",
      " ..., \n",
      " [ 0.          0.          0.         ...,  0.          0.          0.        ]\n",
      " [ 0.          0.15345576  0.         ...,  0.          0.          0.        ]\n",
      " [ 0.          0.          0.         ...,  0.23002861  0.          0.        ]]\n",
      "['acting', 'action', 'actor', 'actors', 'actually', 'almost', 'along', 'also', 'although', 'always', 'american', 'another', 'anyone', 'anything', 'around', 'audience', 'away', 'back', 'bad', 'beautiful', 'believe', 'best', 'better', 'big', 'bit', 'black', 'book', 'boring', 'br', 'cant', 'cast', 'character', 'characters', 'classic', 'come', 'comedy', 'comes', 'completely', 'could', 'course', 'day', 'dead', 'death', 'didnt', 'different', 'director', 'doesnt', 'done', 'dont', 'dvd', 'effects', 'either', 'else', 'end', 'ending', 'enjoy', 'enough', 'especially', 'even', 'ever', 'every', 'everyone', 'everything', 'excellent', 'fact', 'family', 'fan', 'far', 'father', 'feel', 'film', 'films', 'find', 'first', 'found', 'friends', 'fun', 'funny', 'get', 'gets', 'girl', 'give', 'given', 'go', 'goes', 'going', 'good', 'got', 'great', 'guy', 'half', 'hard', 'help', 'hes', 'high', 'hollywood', 'home', 'horror', 'house', 'however', 'idea', 'im', 'instead', 'interesting', 'isnt', 'ive', 'job', 'john', 'kids', 'kind', 'know', 'last', 'later', 'least', 'left', 'less', 'life', 'like', 'little', 'long', 'look', 'looking', 'looks', 'lot', 'love', 'made', 'main', 'make', 'makes', 'making', 'man', 'many', 'may', 'maybe', 'men', 'might', 'mind', 'minutes', 'money', 'movie', 'movies', 'much', 'music', 'must', 'need', 'never', 'new', 'nice', 'night', 'nothing', 'old', 'one', 'original', 'part', 'people', 'performance', 'performances', 'place', 'play', 'played', 'plays', 'plot', 'point', 'poor', 'pretty', 'probably', 'put', 'quite', 'rather', 'read', 'real', 'really', 'reason', 'rest', 'right', 'role', 'said', 'saw', 'say', 'scene', 'scenes', 'screen', 'script', 'second', 'see', 'seeing', 'seem', 'seems', 'seen', 'sense', 'series', 'set', 'short', 'shot', 'show', 'shows', 'simply', 'since', 'someone', 'something', 'special', 'star', 'still', 'story', 'sure', 'take', 'takes', 'thats', 'theres', 'thing', 'things', 'think', 'though', 'thought', 'three', 'time', 'times', 'together', 'true', 'truly', 'try', 'trying', 'tv', 'two', 'us', 'use', 'used', 'version', 'want', 'war', 'wasnt', 'watch', 'watched', 'watching', 'way', 'well', 'whole', 'wife', 'without', 'woman', 'work', 'world', 'worst', 'worth', 'would', 'year', 'years', 'yet', 'young', 'youre']\n"
     ]
    }
   ],
   "source": [
    "import sklearn.feature_extraction.text as sk_text\n",
    "vectorizer_tfldf = sk_text.TfidfVectorizer(\n",
    "                            #stop_words='english',\n",
    "                             #max_features = 1000,\n",
    "                             min_df=20, max_features=250)\n",
    "\n",
    "\n",
    "#max_features:  build a vocabulary that only consider the top max_features features ordered by term frequency across the corpus.\n",
    "\n",
    "matrix_tfldf_train = vectorizer_tfldf.fit_transform(ListofKeywords)\n",
    "matrix_tfldf_train1 = matrix_tfldf_train.toarray()\n",
    "print(type(matrix_tfldf_train))          # Compressed Sparse Row matrix\n",
    "print(matrix_tfldf_train.toarray())        #  convert it to numpy array\n",
    "\n",
    "print(vectorizer_tfldf.get_feature_names())"
   ]
  },
  {
   "cell_type": "code",
   "execution_count": 29,
   "metadata": {},
   "outputs": [
    {
     "data": {
      "text/plain": [
       "(25000, 250)"
      ]
     },
     "execution_count": 29,
     "metadata": {},
     "output_type": "execute_result"
    }
   ],
   "source": [
    "matrix_tfldf_train1.shape"
   ]
  },
  {
   "cell_type": "code",
   "execution_count": 30,
   "metadata": {
    "collapsed": true
   },
   "outputs": [],
   "source": [
    "ListofGroundTruthTrain = []\n",
    "for i in Train_df.Label:\n",
    "    ListofGroundTruthTrain.append(i)"
   ]
  },
  {
   "cell_type": "code",
   "execution_count": 31,
   "metadata": {
    "collapsed": true
   },
   "outputs": [],
   "source": [
    "ListofGroundTruthTest = []\n",
    "for i in Test_df.Label:\n",
    "    ListofGroundTruthTest.append(i)"
   ]
  },
  {
   "cell_type": "code",
   "execution_count": 32,
   "metadata": {
    "collapsed": true
   },
   "outputs": [],
   "source": [
    "X_train, y_train = matrix_tfldf_train1, ListofGroundTruthTrain"
   ]
  },
  {
   "cell_type": "code",
   "execution_count": 33,
   "metadata": {},
   "outputs": [
    {
     "name": "stdout",
     "output_type": "stream",
     "text": [
      "(25000, 250)\n"
     ]
    }
   ],
   "source": [
    "print(X_train.shape)"
   ]
  },
  {
   "cell_type": "code",
   "execution_count": 34,
   "metadata": {},
   "outputs": [
    {
     "name": "stdout",
     "output_type": "stream",
     "text": [
      "25000\n"
     ]
    }
   ],
   "source": [
    "print(len(y_train))"
   ]
  },
  {
   "cell_type": "code",
   "execution_count": 35,
   "metadata": {
    "collapsed": true
   },
   "outputs": [],
   "source": [
    "ListofKeywordsTest = []\n",
    "for i in Test_df.Keywords:\n",
    "    str2 = ' '.join(i)\n",
    "    ListofKeywordsTest.append(str2)"
   ]
  },
  {
   "cell_type": "code",
   "execution_count": 36,
   "metadata": {},
   "outputs": [
    {
     "name": "stdout",
     "output_type": "stream",
     "text": [
      "<class 'scipy.sparse.csr.csr_matrix'>\n",
      "[[ 0.          0.          0.         ...,  0.          0.          0.        ]\n",
      " [ 0.26543364  0.2413191   0.         ...,  0.          0.          0.        ]\n",
      " [ 0.10816811  0.          0.         ...,  0.          0.          0.        ]\n",
      " ..., \n",
      " [ 0.          0.          0.         ...,  0.07232797  0.          0.        ]\n",
      " [ 0.          0.          0.         ...,  0.          0.          0.        ]\n",
      " [ 0.          0.          0.         ...,  0.          0.15550246  0.        ]]\n",
      "['acting', 'action', 'actor', 'actors', 'actually', 'almost', 'along', 'also', 'although', 'always', 'american', 'another', 'anyone', 'anything', 'around', 'audience', 'away', 'back', 'bad', 'beautiful', 'believe', 'best', 'better', 'big', 'bit', 'black', 'book', 'boring', 'br', 'cant', 'cast', 'character', 'characters', 'come', 'comedy', 'comes', 'completely', 'could', 'couple', 'course', 'day', 'dead', 'death', 'didnt', 'different', 'director', 'doesnt', 'done', 'dont', 'dvd', 'effects', 'either', 'else', 'end', 'ending', 'enjoy', 'enough', 'especially', 'even', 'ever', 'every', 'everyone', 'everything', 'excellent', 'fact', 'family', 'fan', 'far', 'feel', 'film', 'films', 'find', 'first', 'found', 'friends', 'fun', 'funny', 'get', 'gets', 'girl', 'give', 'given', 'go', 'goes', 'going', 'good', 'got', 'great', 'guy', 'half', 'hard', 'help', 'hes', 'high', 'home', 'horror', 'house', 'however', 'idea', 'im', 'instead', 'interesting', 'isnt', 'ive', 'job', 'john', 'kids', 'kind', 'know', 'last', 'later', 'least', 'left', 'let', 'life', 'like', 'little', 'long', 'look', 'looking', 'looks', 'lot', 'love', 'made', 'main', 'make', 'makes', 'making', 'man', 'many', 'may', 'maybe', 'men', 'might', 'mind', 'minutes', 'money', 'movie', 'movies', 'much', 'music', 'must', 'need', 'never', 'new', 'next', 'nice', 'night', 'nothing', 'old', 'one', 'original', 'part', 'people', 'performance', 'place', 'play', 'played', 'plays', 'plot', 'point', 'poor', 'pretty', 'probably', 'production', 'put', 'quite', 'rather', 'read', 'real', 'really', 'reason', 'recommend', 'right', 'role', 'said', 'saw', 'say', 'scene', 'scenes', 'school', 'screen', 'script', 'second', 'see', 'seeing', 'seem', 'seems', 'seen', 'sense', 'series', 'set', 'short', 'shot', 'show', 'shows', 'simply', 'since', 'someone', 'something', 'special', 'star', 'still', 'story', 'stupid', 'sure', 'take', 'takes', 'thats', 'theres', 'thing', 'things', 'think', 'though', 'thought', 'three', 'time', 'times', 'together', 'true', 'truly', 'try', 'trying', 'tv', 'two', 'us', 'use', 'used', 'version', 'want', 'war', 'wasnt', 'watch', 'watched', 'watching', 'way', 'well', 'whole', 'wife', 'without', 'woman', 'work', 'world', 'worst', 'worth', 'would', 'years', 'yet', 'young', 'youre']\n"
     ]
    }
   ],
   "source": [
    "import sklearn.feature_extraction.text as sk_text\n",
    "vectorizer_tfldf1 = sk_text.TfidfVectorizer(\n",
    "                            #stop_words='english',\n",
    "                             #max_features = 1000,\n",
    "                             min_df=20, max_features=250)\n",
    "\n",
    "\n",
    "#max_features:  build a vocabulary that only consider the top max_features features ordered by term frequency across the corpus.\n",
    "\n",
    "matrix_tfldf_test = vectorizer_tfldf1.fit_transform(ListofKeywordsTest)\n",
    "matrix_tfldf_test1 = matrix_tfldf_train.toarray()\n",
    "print(type(matrix_tfldf_test))          # Compressed Sparse Row matrix\n",
    "print(matrix_tfldf_test.toarray())        #  convert it to numpy array\n",
    "\n",
    "print(vectorizer_tfldf1.get_feature_names())"
   ]
  },
  {
   "cell_type": "code",
   "execution_count": 37,
   "metadata": {
    "collapsed": true
   },
   "outputs": [],
   "source": [
    "X_test, y_test = matrix_tfldf_test1, ListofGroundTruthTest"
   ]
  },
  {
   "cell_type": "code",
   "execution_count": 38,
   "metadata": {},
   "outputs": [
    {
     "name": "stdout",
     "output_type": "stream",
     "text": [
      "(25000, 250)\n"
     ]
    }
   ],
   "source": [
    "print(X_test.shape)"
   ]
  },
  {
   "cell_type": "code",
   "execution_count": 39,
   "metadata": {},
   "outputs": [
    {
     "name": "stdout",
     "output_type": "stream",
     "text": [
      "25000\n"
     ]
    }
   ],
   "source": [
    "print(len(y_test))"
   ]
  },
  {
   "cell_type": "markdown",
   "metadata": {},
   "source": [
    "# Decision Tree"
   ]
  },
  {
   "cell_type": "code",
   "execution_count": 40,
   "metadata": {},
   "outputs": [
    {
     "name": "stdout",
     "output_type": "stream",
     "text": [
      "test [0, 0, 0, 0, 0, 0, 0, 0, 0, 0]\n",
      "pred [0 0 0 0 0 0 0 0 0 0]\n"
     ]
    }
   ],
   "source": [
    "import sklearn.metrics as metrics\n",
    "from sklearn import tree\n",
    "\n",
    "dtree = tree.DecisionTreeClassifier()\n",
    "dtree = dtree.fit(X_train, y_train)\n",
    "y_tree_pred = dtree.predict(X_test)\n",
    "\n",
    "#y_prob = dtree.predict_proba(X_test)\n",
    "\n",
    "print(\"test\", y_test[:10])\n",
    "print(\"pred\", y_tree_pred [:10])"
   ]
  },
  {
   "cell_type": "code",
   "execution_count": 41,
   "metadata": {},
   "outputs": [
    {
     "name": "stdout",
     "output_type": "stream",
     "text": [
      "[[12500     0]\n",
      " [    0 12500]]\n",
      "1.0\n",
      "1.0\n",
      "1.0\n"
     ]
    }
   ],
   "source": [
    "print(metrics.confusion_matrix(y_test,y_tree_pred ))\n",
    "print(metrics.precision_score(y_test,y_tree_pred ))  \n",
    "print(metrics.recall_score(y_test,y_tree_pred ))      \n",
    "print(metrics.f1_score(y_test,y_tree_pred ))          "
   ]
  },
  {
   "cell_type": "markdown",
   "metadata": {},
   "source": [
    "# Logistic Regression"
   ]
  },
  {
   "cell_type": "code",
   "execution_count": 42,
   "metadata": {
    "collapsed": true
   },
   "outputs": [],
   "source": [
    "import sklearn.linear_model as linear_model\n",
    "\n",
    "lr_clf = linear_model.LogisticRegression()\n",
    "lr_clf.fit(X_train, y_train)\n",
    "\n",
    "y_logistic_pred = lr_clf.predict(X_test)\n",
    "\n",
    "#probs = lr_clf.predict_proba(X_test)\n",
    "\n",
    "#print(\"test\", y_test[:10])\n",
    "#print(\"pred\",y_logistic_pred[:10])\n"
   ]
  },
  {
   "cell_type": "code",
   "execution_count": 43,
   "metadata": {},
   "outputs": [
    {
     "name": "stdout",
     "output_type": "stream",
     "text": [
      "[[ 9824  2676]\n",
      " [ 2397 10103]]\n",
      "0.790593943188\n",
      "0.80824\n",
      "0.799319593338\n"
     ]
    }
   ],
   "source": [
    "print(metrics.confusion_matrix(y_test,y_logistic_pred))\n",
    "print(metrics.precision_score(y_test,y_logistic_pred))   \n",
    "print(metrics.recall_score(y_test,y_logistic_pred))      \n",
    "print(metrics.f1_score(y_test,y_logistic_pred))          "
   ]
  },
  {
   "cell_type": "markdown",
   "metadata": {},
   "source": [
    "# Naive based"
   ]
  },
  {
   "cell_type": "code",
   "execution_count": 44,
   "metadata": {
    "collapsed": true
   },
   "outputs": [],
   "source": [
    "from sklearn.naive_bayes import GaussianNB\n",
    "nb_clf = GaussianNB()\n",
    "nb_clf.fit(X_train, y_train)\n",
    "y_nb_pred = nb_clf.predict(X_test)"
   ]
  },
  {
   "cell_type": "code",
   "execution_count": 45,
   "metadata": {
    "scrolled": true
   },
   "outputs": [
    {
     "name": "stdout",
     "output_type": "stream",
     "text": [
      "[[9513 2987]\n",
      " [3003 9497]]\n",
      "0.760733739186\n",
      "0.75976\n",
      "0.760246557797\n"
     ]
    }
   ],
   "source": [
    "print(metrics.confusion_matrix(y_test,y_nb_pred))\n",
    "print(metrics.precision_score(y_test,y_nb_pred))   \n",
    "print(metrics.recall_score(y_test,y_nb_pred))      \n",
    "print(metrics.f1_score(y_test,y_nb_pred))   "
   ]
  },
  {
   "cell_type": "markdown",
   "metadata": {},
   "source": [
    "# Neural Network"
   ]
  },
  {
   "cell_type": "code",
   "execution_count": 46,
   "metadata": {
    "collapsed": true
   },
   "outputs": [],
   "source": [
    "from sklearn.neural_network import MLPClassifier\n",
    "\n",
    "mlp = MLPClassifier(hidden_layer_sizes=(20,20,20), alpha=0.00001,max_iter=1000)\n",
    "mlp.fit(X_train, y_train)\n",
    "y_neural_pred = mlp.predict(X_test)"
   ]
  },
  {
   "cell_type": "code",
   "execution_count": 47,
   "metadata": {},
   "outputs": [
    {
     "name": "stdout",
     "output_type": "stream",
     "text": [
      "[[11593   907]\n",
      " [  752 11748]]\n",
      "Precision Score::  0.928328723825\n",
      "Recall Score::  0.93984\n",
      "F1 score::  0.93404889684\n"
     ]
    }
   ],
   "source": [
    "print(metrics.confusion_matrix(y_test,y_neural_pred))\n",
    "print(\"Precision Score:: \",metrics.precision_score(y_test,y_neural_pred))\n",
    "print(\"Recall Score:: \",metrics.recall_score(y_test,y_neural_pred))      \n",
    "print(\"F1 score:: \",metrics.f1_score(y_test,y_neural_pred)) "
   ]
  },
  {
   "cell_type": "markdown",
   "metadata": {},
   "source": [
    "# SVM"
   ]
  },
  {
   "cell_type": "code",
   "execution_count": 48,
   "metadata": {
    "collapsed": true
   },
   "outputs": [],
   "source": [
    "from sklearn import svm\n",
    "\n",
    "svm_clf = svm.SVC()\n",
    "svm_clf.fit(X_train,y_train)\n",
    "\n",
    "\n",
    "y_svw_pred = svm_clf.predict(X_test)\n",
    "\n",
    "#print(\"test\", y_test[:10])\n",
    "#print(\"pred\", y_svw_pred [:10])"
   ]
  },
  {
   "cell_type": "code",
   "execution_count": 49,
   "metadata": {},
   "outputs": [
    {
     "name": "stdout",
     "output_type": "stream",
     "text": [
      "[[ 9310  3190]\n",
      " [ 2274 10226]]\n",
      "0.762224209899\n",
      "0.81808\n",
      "0.789164994598\n"
     ]
    }
   ],
   "source": [
    "print(metrics.confusion_matrix(y_test,y_svw_pred ))\n",
    "print(metrics.precision_score(y_test,y_svw_pred ))   \n",
    "print(metrics.recall_score(y_test,y_svw_pred ))     \n",
    "print(metrics.f1_score(y_test,y_svw_pred ))          "
   ]
  },
  {
   "cell_type": "markdown",
   "metadata": {},
   "source": [
    "# k-NN"
   ]
  },
  {
   "cell_type": "code",
   "execution_count": 50,
   "metadata": {
    "collapsed": true
   },
   "outputs": [],
   "source": [
    "from sklearn.neighbors import KNeighborsClassifier\n",
    "# try K=1 through K=4 and record testing accuracy\n",
    "k_range = list(range(1, 5))\n",
    "scores = []\n",
    "for k in k_range:\n",
    "    knn = KNeighborsClassifier(n_neighbors=k)\n",
    "    knn.fit(X_train, y_train)\n",
    "    y_pred = knn.predict(X_test)\n",
    "    scores.append(metrics.f1_score(y_test, y_pred, average= 'weighted'))"
   ]
  },
  {
   "cell_type": "code",
   "execution_count": 51,
   "metadata": {},
   "outputs": [
    {
     "data": {
      "image/png": "[encoded data removed]",
      "text/plain": [
       "<matplotlib.figure.Figure at 0x29732d9ebe0>"
      ]
     },
     "metadata": {},
     "output_type": "display_data"
    }
   ],
   "source": [
    "# import Matplotlib (scientific plotting library)\n",
    "import matplotlib.pyplot as plt\n",
    "\n",
    "# allow plots to appear within the notebook\n",
    "%matplotlib inline\n",
    "\n",
    "# plot the relationship between K and testing accuracy\n",
    "plt.plot(k_range, scores)\n",
    "plt.xlabel('Value of K for KNN')\n",
    "plt.ylabel('F1 Score')\n",
    "plt.show()"
   ]
  },
  {
   "cell_type": "code",
   "execution_count": 52,
   "metadata": {
    "collapsed": true
   },
   "outputs": [],
   "source": [
    "from sklearn.neighbors import KNeighborsClassifier\n",
    "knn = KNeighborsClassifier(n_neighbors=3, weights='uniform')\n",
    "knn_fit = knn.fit(X_train, y_train)\n",
    "knn_predict = knn.predict(X_test)"
   ]
  },
  {
   "cell_type": "code",
   "execution_count": 53,
   "metadata": {},
   "outputs": [
    {
     "name": "stdout",
     "output_type": "stream",
     "text": [
      "[[10400  2100]\n",
      " [ 1998 10502]]\n",
      "0.833359784161\n",
      "0.84016\n",
      "0.83674607601\n"
     ]
    }
   ],
   "source": [
    "print(metrics.confusion_matrix(y_test,knn_predict))\n",
    "print(metrics.precision_score(y_test,knn_predict))   \n",
    "print(metrics.recall_score(y_test,knn_predict))      \n",
    "print(metrics.f1_score(y_test,knn_predict))         "
   ]
  }
 ],
 "metadata": {
  "kernelspec": {
   "display_name": "Python 3",
   "language": "python",
   "name": "python3"
  },
  "language_info": {
   "codemirror_mode": {
    "name": "ipython",
    "version": 3
   },
   "file_extension": ".py",
   "mimetype": "text/x-python",
   "name": "python",
   "nbconvert_exporter": "python",
   "pygments_lexer": "ipython3",
   "version": "3.6.3"
  }
 },
 "nbformat": 4,
 "nbformat_minor": 2
}
